{
 "cells": [
  {
   "cell_type": "markdown",
   "id": "23b5a238",
   "metadata": {},
   "source": [
    "## CS 506 Spring 2021 - HW2 \n",
    "### Classification and Dimensionality Reduction (Total: 32 points)\n",
    "#### Package Limitations: None\n",
    "\n",
    "#### Name:Yufan Lin\n",
    "#### BU ID:U16678507\n",
    "#### BU Email:eric1025@bu.edu\n",
    "\n",
    "#### People you consulted working on this hw:\n",
    "\n",
    "\n",
    "\n"
   ]
  },
  {
   "cell_type": "markdown",
   "id": "730641ac",
   "metadata": {},
   "source": [
    "### 1. Least Squares and Logistic Regression\n",
    "\n",
    "In this section, we are going to compare two linear models for classification, especially when outliers are presented in the data. Please refer to Section 4.1.3 at Page 184 of the book [Pattern Recognition and Machine Learning](http://users.isr.ist.utl.pt/~wurmd/Livros/school/Bishop%20-%20Pattern%20Recognition%20And%20Machine%20Learning%20-%20Springer%20%202006.pdf) for the context of this problem as well as the explanation of Figure1\n",
    "\n",
    "Figure 1: The comparison of least square and logistic regression in classification of two classes with/without outliers\n",
    "\n",
    "![Figure 1](figure_1.png \"some titile\")\n",
    "\n",
    "a) \\[1 pt.\\] Generate labeled random 2D points like the ones shown in the left subfigure of Figure1. Note that the red crosses and blue circles are points of different classes, so you may need to have a third column storing the label info of the 2D points. Let’s call this data “data without outlier”. Now on top of this data, add a few outliers to the blue circles just like the right subfigure of Figure1 and save the data as “data with outlier”. You may either use code or even manually choose some random 2D points. Your data need not to be exactly the same as the ones shown on the plots."
   ]
  },
  {
   "cell_type": "code",
   "execution_count": 113,
   "id": "c9dfe79f",
   "metadata": {},
   "outputs": [],
   "source": [
    "# feel free to write more helper function, but do NOT change the name of the provided function(s). \n",
    "# you may modify inputs and outputs of provided functions. If you do, make sure to indicate\n",
    "# what the they are in the function docstring. This applies to every cells below\n",
    "\n",
    "\n",
    "from typing import List, Dict, Tuple\n",
    "from sklearn.datasets import make_classification\n",
    "import numpy as np\n",
    "import pandas as pd\n",
    "def generate_random_points(points,label,with_outlier: bool):                \n",
    "#add the points and labels to the parameter, so my thought is to first create a random data of points\n",
    "#and labels without outliers and then add the outliers to the same data as if needed\n",
    "\n",
    "#     \"\"\"\n",
    "#     Generate a few random points and return such dataset\n",
    "    \n",
    "#     :param with_outlier: whether outlier is generated with the data points\n",
    "#     :return: points and label\n",
    "\n",
    "    \n",
    "    if with_outlier == True:\n",
    "        x_outliers=np.random.uniform(6,8,5)                       #create x and y coordinates for outliers and append to x and y\n",
    "        y_outliers=np.random.uniform(6,8,5)\n",
    "        outliers=np.stack((x_outliers,y_outliers),axis=-1)\n",
    "        points=np.vstack((points,outliers))\n",
    "        label=np.append(label,np.ones(5))                           #set the labels for outliers to 1\n",
    "    return points,label"
   ]
  },
  {
   "cell_type": "code",
   "execution_count": 114,
   "id": "350f1b21",
   "metadata": {},
   "outputs": [
    {
     "name": "stdout",
     "output_type": "stream",
     "text": [
      "[[ 0.0224531  -1.0571394 ]\n",
      " [-0.99230404  1.32514336]\n",
      " [-1.01321815  0.95709117]\n",
      " [-0.95495309 -0.88835184]\n",
      " [ 0.19832091 -0.74542941]\n",
      " [-0.1336218  -1.04562336]\n",
      " [ 1.2108986  -0.93137601]\n",
      " [ 0.38958207  1.22882607]\n",
      " [-0.43052404  0.800233  ]\n",
      " [-0.27295749  0.64314705]\n",
      " [-0.03768504 -1.08785027]\n",
      " [ 1.0701784  -0.99870076]\n",
      " [ 1.11754883  0.82722533]\n",
      " [ 0.51735902  0.69402961]\n",
      " [ 1.84042159 -0.91036882]\n",
      " [-0.52224075 -0.87203589]\n",
      " [-0.80024602  1.21185179]\n",
      " [ 0.58352074  0.79482199]\n",
      " [-0.60933109  1.49701097]\n",
      " [ 0.0588182  -0.89256681]\n",
      " [ 0.25660143 -0.91806797]\n",
      " [-0.8169323  -0.94830186]\n",
      " [ 0.13743571 -1.0430395 ]\n",
      " [ 0.36643673  0.69419848]\n",
      " [ 0.28075866  0.97134673]\n",
      " [ 1.64365767  0.80296768]\n",
      " [-1.09721183  0.82521405]\n",
      " [ 0.69626347 -0.86932236]\n",
      " [ 0.35589628 -0.9858324 ]\n",
      " [ 0.30249042  1.16824324]\n",
      " [-0.39586795  1.10303543]\n",
      " [ 0.76619156 -1.01333204]\n",
      " [ 0.52318414  1.12944779]\n",
      " [ 0.64149091  0.90699516]\n",
      " [-1.7941899  -0.95964415]\n",
      " [-0.13503236  1.10875956]\n",
      " [ 0.93608515 -1.05951975]\n",
      " [ 1.54631269 -1.22381912]\n",
      " [-0.49399688 -0.98815048]\n",
      " [ 0.76187132 -0.9165694 ]\n",
      " [ 1.7557191  -0.97029976]\n",
      " [ 1.65293621  1.85446501]\n",
      " [-0.01139139 -0.95295531]\n",
      " [ 1.31759978  1.54382352]\n",
      " [-2.76212466 -1.03884218]\n",
      " [-0.80881565 -1.07008051]\n",
      " [ 0.66769017  0.61866019]\n",
      " [-1.61892073 -0.97384058]\n",
      " [ 1.24187487  1.32996027]\n",
      " [-1.01798487  1.44851003]\n",
      " [-0.8023935  -0.97857089]\n",
      " [ 0.36699147 -0.87974989]\n",
      " [-1.02761535  1.28096092]\n",
      " [-1.37570494  1.37345535]\n",
      " [-0.01120452  0.87512278]\n",
      " [ 0.32446093  0.53356205]\n",
      " [ 1.09295732  0.60297474]\n",
      " [-0.26608541 -0.99380144]\n",
      " [ 0.14292967 -1.02615461]\n",
      " [-1.1115001   0.18087285]\n",
      " [-0.14950805  1.10976225]\n",
      " [ 1.63521261  0.8395709 ]\n",
      " [ 0.00960666  1.46154332]\n",
      " [ 0.1399392  -1.13072192]\n",
      " [ 1.23370578  0.81537455]\n",
      " [ 0.23107115  1.33805785]\n",
      " [ 1.93332996 -0.94433571]\n",
      " [-1.51153521 -1.0082796 ]\n",
      " [ 1.05950315 -0.93953654]\n",
      " [ 1.40220417  2.11613436]\n",
      " [ 0.3021727   0.52060681]\n",
      " [ 0.09942962  0.91540342]\n",
      " [-0.10562109  1.39053074]\n",
      " [-2.71200272  1.91005062]\n",
      " [-0.99309352  1.39750078]\n",
      " [ 0.96637728 -1.02691165]\n",
      " [ 0.60425559 -1.03546499]\n",
      " [-0.05116192 -0.11014704]\n",
      " [ 0.02092556  1.16382685]\n",
      " [ 0.11701022  0.48833723]\n",
      " [-0.8454306  -1.22681513]\n",
      " [-0.12585015 -1.00893538]\n",
      " [-1.05004283 -1.05535425]\n",
      " [ 0.1659388  -1.02140332]\n",
      " [-0.47522137 -1.1032318 ]\n",
      " [ 2.52572332  0.58112002]\n",
      " [ 0.28563421 -1.23247688]\n",
      " [ 0.54119411 -1.0417475 ]\n",
      " [-0.17458242 -1.12286528]\n",
      " [-0.28006876 -1.12614242]\n",
      " [-0.24390968 -1.09599386]\n",
      " [-0.17159891  0.50974826]\n",
      " [-1.12917692 -0.97280977]\n",
      " [-0.60849416 -1.03601443]\n",
      " [-0.02625486  1.16413659]\n",
      " [ 1.14206435 -1.07817566]\n",
      " [ 1.86210883  1.13298096]\n",
      " [ 1.14191387  1.05414384]\n",
      " [-1.75779163  1.08118056]\n",
      " [-1.35249686 -0.90528069]] [0 1 1 0 0 0 0 1 1 1 0 0 1 1 0 0 1 1 1 0 0 0 0 1 1 1 1 0 0 1 1 0 1 1 0 1 0\n",
      " 0 0 0 0 1 0 1 0 0 1 0 1 1 0 0 1 1 1 1 1 0 0 1 1 1 1 0 1 1 0 0 0 1 1 1 1 1\n",
      " 1 0 0 1 1 1 0 0 0 0 0 1 0 0 0 0 0 1 0 0 1 0 1 1 1 0]\n"
     ]
    }
   ],
   "source": [
    "# Do some test print outs to verify correctness\n",
    "points,labels=make_classification(n_features=2, n_redundant=0, n_informative=1, n_clusters_per_class=1)\n",
    "# print(generate_random_points(points,labels,with_outlier=False))\n",
    "# print(generate_random_points(points,labels,with_outlier=True))\n",
    "# count=0\n",
    "points,labels=generate_random_points(points,labels,with_outlier=False)\n",
    "print(points,labels)\n",
    "# for i in range(len(labels)):\n",
    "#     if(labels[i]== 0):\n",
    "#         count=count+1\n",
    "# print(count)\n"
   ]
  },
  {
   "cell_type": "markdown",
   "id": "e7e0bddd",
   "metadata": {},
   "source": [
    "b) \\[4 pts.\\] Use both the least squares method and the logistic regression method to classify the “data without outlier” and “data with outlier”."
   ]
  },
  {
   "cell_type": "code",
   "execution_count": 158,
   "id": "f5869606",
   "metadata": {},
   "outputs": [],
   "source": [
    "import sklearn.linear_model\n",
    "from sklearn import linear_model\n",
    "import numpy as np\n",
    "def least_squares_classify(points,labels):     #Changed the parameters to np arrays of points and labels which is created in 1(a)\n",
    "    \"\"\"\n",
    "    Classifying dataset with least squares method\n",
    "    \n",
    "    :param dataset: the dataset object to classify\n",
    "    :return: coefficient and constant for decision boundary\n",
    "    \"\"\"\n",
    "    model = linear_model.LinearRegression()                     #fit the model and find the decision boundary\n",
    "    model.fit(points,labels)\n",
    "    a = model.intercept_\n",
    "    w1,w2=model.coef_.T\n",
    "    k=-w1/w2\n",
    "    b=-a\n",
    "    return k,b\n",
    "\n",
    "def logic_regression_classify(points,labels):             #same as the parameters as least_squares_classify\n",
    "    model = sklearn.linear_model.LogisticRegression()                       #fit the model and find the decision boundary\n",
    "    model.fit(points,labels)\n",
    "    a = model.intercept_[0]\n",
    "    w1,w2=model.coef_.T\n",
    "    k=-w1/w2\n",
    "    b=-a/w2\n",
    "\n",
    "    return k,b\n"
   ]
  },
  {
   "cell_type": "code",
   "execution_count": 162,
   "id": "079a6001",
   "metadata": {},
   "outputs": [
    {
     "name": "stdout",
     "output_type": "stream",
     "text": [
      "-33.51228563473468 -0.49989011177496084\n",
      "[-32.69046582] [8.49714177]\n",
      "1.988080119525546 -0.4794110354022693\n",
      "[-32.69040196] [8.49701658]\n"
     ]
    }
   ],
   "source": [
    "# Classify data with and without outlier here \n",
    "points,labels=make_classification(n_features=2, n_redundant=0, n_informative=1, n_clusters_per_class=1)\n",
    "points1,labels1 = generate_random_points(points,labels,with_outlier=False)   #without outliier\n",
    "k1,b1=least_squares_classify(points1,labels1)\n",
    "k2,b2=logic_regression_classify(points1,labels1)\n",
    "print(k1,b1)\n",
    "print(k2,b2)\n",
    "\n",
    "points2,labels2 = generate_random_points(points,labels,with_outlier=True)    #with outlier\n",
    "k3,b3=least_squares_classify(points2,labels2 )\n",
    "k4,b4=logic_regression_classify(points2,labels2 )\n",
    "print(k3,b3)\n",
    "print(k4,b4)\n"
   ]
  },
  {
   "cell_type": "markdown",
   "id": "ff6a30ee",
   "metadata": {},
   "source": [
    "c) \\[2 pts.\\] Plot the classification results into two figures side by side just like Figure1. Have you got similar results like Figure1? Explain briefly why the logistic regression is not sensitive to outliers."
   ]
  },
  {
   "cell_type": "code",
   "execution_count": 164,
   "id": "54918a47",
   "metadata": {},
   "outputs": [],
   "source": [
    "import matplotlib.pyplot as plt\n",
    "def plot_classification_results(points,labels,k1,b1,k2,b2,withoutlier: bool):\n",
    "    \"\"\"\n",
    "    Plot classification results of data with outlier and data without outlier\n",
    "    \n",
    "    :param: points and labels, k1,b1 which is the decision boundary for linear regresssion and k2,b2 which is the decision boundary for logistic regression\n",
    "    :return:   the graph\n",
    "    \"\"\"  \n",
    "    xd=points[:,0]\n",
    "    yd1=k1*xd+b1                                                #plot the line for linear regression and logistic regression\n",
    "    yd2=k2*xd+b2\n",
    "    if(withoutlier== True):\n",
    "        plt.title('with outlier')\n",
    "    else:\n",
    "        plt.title('without outlier')\n",
    "        \n",
    "    plt.plot(xd, yd1, label = 'linear')\n",
    "    plt.plot(xd, yd2, label = 'logistic')\n",
    "    plt.legend()\n",
    "    plt.scatter(*points[labels==0].T, s=8, alpha=0.5)           #plot the points\n",
    "    plt.scatter(*points[labels==1].T, s=8, alpha=0.5)\n",
    "    plt.xlim(-4, 10)\n",
    "    plt.ylim(-4, 10)\n",
    "    plt.show()\n",
    "    \n",
    "\n",
    "    "
   ]
  },
  {
   "cell_type": "code",
   "execution_count": 165,
   "id": "9a667161",
   "metadata": {},
   "outputs": [
    {
     "data": {
      "image/png": "[encoded data removed]",
      "text/plain": [
       "<Figure size 432x288 with 1 Axes>"
      ]
     },
     "metadata": {
      "needs_background": "light"
     },
     "output_type": "display_data"
    },
    {
     "data": {
      "image/png": "[encoded data removed]",
      "text/plain": [
       "<Figure size 432x288 with 1 Axes>"
      ]
     },
     "metadata": {
      "needs_background": "light"
     },
     "output_type": "display_data"
    }
   ],
   "source": [
    "plot_classification_results(points1,labels1,k1,b1,k2,b2,withoutlier=False)\n",
    "plot_classification_results(points2,labels2,k3,b3,k4,b4,withoutlier=True)\n",
    "\n",
    "#For logistic regression, decision boundary takes into consideration only the points that are closer to it, \n",
    "# hence effect of outliers on the decision boundary is very less. "
   ]
  },
  {
   "cell_type": "markdown",
   "id": "749419db",
   "metadata": {},
   "source": [
    "### 2 Logistic Regression and kNN Classification\n",
    "\n",
    "The goal of this problem is to perform classification on the famous MNIST dataset.\n",
    "\n",
    "We have already preprocessed a sample of this dataset (30% of the original dataset), that you can find here: [Download from Google Drive](https://drive.google.com/open?id=1phX7-hv5FNye7mPzddr1oplZIhAgmycz) in the format of NumPy arrays.\n",
    "\n",
    "File mnist data.npy contains an array of the data -each row corresponds to a 28 × 28 digit picture vectorized to create 28*28=784 features, while the file mnist labels.npy contains the respective labels of the images.\n",
    "\n",
    "a) \\[0 pts.\\] Randomly split the dataset, using 20% of the samples as your test set and the remaining 80% as the train set that you will use to fit your models."
   ]
  },
  {
   "cell_type": "code",
   "execution_count": 119,
   "id": "be80d1d1",
   "metadata": {},
   "outputs": [
    {
     "name": "stdout",
     "output_type": "stream",
     "text": [
      "14400\n",
      "3600\n"
     ]
    }
   ],
   "source": [
    "import numpy as np\n",
    "from sklearn.model_selection import train_test_split\n",
    "def read_mnist_data(file_path: str) -> np.array:\n",
    "    \"\"\"\n",
    "    Load numpy array of MNIST dataset from data.npy file\n",
    "    \n",
    "    :param file_path: string path to dataset \n",
    "    :return: numpy array representation of the mnist dataset\n",
    "    \"\"\"\n",
    "    data=np.load(file_path)\n",
    "    return data\n",
    "data=read_mnist_data(file_path='C:/Users/dell/Desktop/CS506hw2/mnist_data.npy')\n",
    "labels=read_mnist_data(file_path='C:/Users/dell/Desktop/CS506hw2/mnist_labels.npy')\n",
    "X_train, X_test, y_train, y_test= train_test_split(data,labels,test_size=0.2)\n",
    "# print(data[0])\n",
    "# print(np.shape(labels))\n",
    "print(len(X_train))\n",
    "print(len(X_test))"
   ]
  },
  {
   "cell_type": "markdown",
   "id": "8043a04d",
   "metadata": {},
   "source": [
    "\n",
    "b) \\[2 pts.\\] Try to classify the images using Logistic Regression. Have in mind that the dataset contains more than 2 labels, hence is a multinomial classification problem. What is your train accuracy and test accuracy?"
   ]
  },
  {
   "cell_type": "code",
   "execution_count": 120,
   "id": "41335ffc",
   "metadata": {},
   "outputs": [],
   "source": [
    "def logistic_regression_classify_mnist( X_train, X_test, y_train, y_test) -> Tuple[float, float]: \n",
    "    #changed the parameters to the train and test as splited in 2(a)\n",
    "    \"\"\"\n",
    "    Classify mnist dataset with logistic regression\n",
    "    \n",
    "    :param dataset: mnist dataset in numpy format\n",
    "    :return: train and test accuracy of the model\n",
    "    \"\"\"\n",
    "    from sklearn.metrics import accuracy_score                          \n",
    "    model = sklearn.linear_model.LogisticRegression()                       # fit the model and calculate the train test accuracy using accuracy_score function in sklearn\n",
    "    model.fit(X_train,y_train)\n",
    "    X_train_predict=model.predict(X_train)\n",
    "    X_test_predict=model.predict(X_test)\n",
    "    train_accuracy=accuracy_score(y_train,X_train_predict)\n",
    "    test_accuracy=accuracy_score(y_test,X_test_predict)\n",
    "    return train_accuracy,test_accuracy"
   ]
  },
  {
   "cell_type": "code",
   "execution_count": 121,
   "id": "81ec9ba9",
   "metadata": {},
   "outputs": [
    {
     "name": "stdout",
     "output_type": "stream",
     "text": [
      "0.9570833333333333\n",
      "0.8927777777777778\n"
     ]
    },
    {
     "name": "stderr",
     "output_type": "stream",
     "text": [
      "C:\\Users\\dell\\AppData\\Local\\Programs\\Python\\Python39\\lib\\site-packages\\sklearn\\linear_model\\_logistic.py:814: ConvergenceWarning: lbfgs failed to converge (status=1):\n",
      "STOP: TOTAL NO. of ITERATIONS REACHED LIMIT.\n",
      "\n",
      "Increase the number of iterations (max_iter) or scale the data as shown in:\n",
      "    https://scikit-learn.org/stable/modules/preprocessing.html\n",
      "Please also refer to the documentation for alternative solver options:\n",
      "    https://scikit-learn.org/stable/modules/linear_model.html#logistic-regression\n",
      "  n_iter_i = _check_optimize_result(\n"
     ]
    }
   ],
   "source": [
    "train_accuracy,test_accuracy=logistic_regression_classify_mnist(X_train, X_test, y_train, y_test)\n",
    "print(train_accuracy)\n",
    "print(test_accuracy)"
   ]
  },
  {
   "cell_type": "markdown",
   "id": "192450ad",
   "metadata": {},
   "source": [
    "c) \\[3 pts.\\] Now, try to classify the dataset using a k-Nearest Neighbor classifier. Plot the train and test accuracy as you vary k from 1 to 25 with a step size of 2.\n"
   ]
  },
  {
   "cell_type": "code",
   "execution_count": 122,
   "id": "a3651dee",
   "metadata": {},
   "outputs": [],
   "source": [
    "from sklearn.neighbors import KNeighborsClassifier \n",
    "from sklearn.metrics import accuracy_score\n",
    "def knn_classify_mnist(X_train, X_test, y_train, y_test):  \n",
    "    #changed the parameters to the train and test as splited in 2(a),similar to 2(b)\n",
    "    \"\"\"\n",
    "    Classify mnist dataset with K-nearest neighbor\n",
    "    \n",
    "    :param dataset: mnist dataset in numpy format\n",
    "    :return: print the graph of the relationship between k values and accuracy\n",
    "    \"\"\"\n",
    "    L=[x for x in range(1,26)]                      #create the np array of k values from 1 to 25 with a step of 2\n",
    "    k_value=L[::2]\n",
    "    train_accuracy = np.empty(len(k_value))\n",
    "    test_accuracy = np.empty(len(k_value))\n",
    "    i=0\n",
    "    for k in (k_value):                                               #store the train_accuracy and test_accuracy for each k value                                                                          \n",
    "            model=KNeighborsClassifier(n_neighbors=k)\n",
    "            model.fit(X_train,y_train)\n",
    "            train_accuracy[i]=accuracy_score(y_train,model.predict(X_train))\n",
    "            test_accuracy[i]=accuracy_score(y_test,model.predict(X_test))\n",
    "            i=i+1\n",
    "\n",
    "    plt.title('kNN: Varying Number of k')\n",
    "    plt.plot(k_value, test_accuracy, label = 'Testing Accuracy')\n",
    "    plt.plot(k_value, train_accuracy, label = 'Training Accuracy')\n",
    "    plt.legend()\n",
    "    plt.xlabel('k number')\n",
    "    plt.ylabel('Accuracy')\n",
    "    plt.show()\n",
    "    \n",
    "\n"
   ]
  },
  {
   "cell_type": "code",
   "execution_count": 123,
   "id": "0acd0e19",
   "metadata": {},
   "outputs": [
    {
     "data": {
      "image/png": "[encoded data removed]",
      "text/plain": [
       "<Figure size 432x288 with 1 Axes>"
      ]
     },
     "metadata": {
      "needs_background": "light"
     },
     "output_type": "display_data"
    }
   ],
   "source": [
    "\n",
    "knn_classify_mnist(X_train, X_test, y_train, y_test)\n"
   ]
  },
  {
   "cell_type": "markdown",
   "id": "3bd366ec",
   "metadata": {},
   "source": [
    "d) \\[1 pt.\\] Explain your results.\n"
   ]
  },
  {
   "cell_type": "markdown",
   "id": "be963975",
   "metadata": {},
   "source": [
    "For Training set, as k increases the accuracy first decrease rapidly and then decrease slowly\n",
    "For Testig set, as k increases the accuracy decreases slowly and sometimes increases but will decrease soon, and as a whole, the tendency of accuracy is decreasing.\n",
    "The best K values should be 13 which is the point that the accuracy of training and testing data is similar and still at a high rate of accuracy."
   ]
  },
  {
   "cell_type": "markdown",
   "id": "4289da5a",
   "metadata": {},
   "source": [
    "e) \\[5 pts.\\] Now use kNN to explore how a different sized train set affects your results. Plot the accuracy of your model when only using 3,000 of the images in the train set (repeat this experiment using 6,000, 9,000, and so on until you are using the full train set). Use whatever value of k you found that worked best in part (c). You will be doing something similar in Problem 3(d) so it makes sense to run both experiments at the same time."
   ]
  },
  {
   "cell_type": "code",
   "execution_count": 124,
   "id": "8daa59c9",
   "metadata": {},
   "outputs": [
    {
     "data": {
      "image/png": "[encoded data removed]",
      "text/plain": [
       "<Figure size 432x288 with 1 Axes>"
      ]
     },
     "metadata": {
      "needs_background": "light"
     },
     "output_type": "display_data"
    }
   ],
   "source": [
    "import random\n",
    "def sample_dataset(X_train,y_train, select_size: int) -> np.array:\n",
    "    #changed parameter to X_train and y_train which is the training set\n",
    "    \"\"\"\n",
    "    Randomly sample a certain size of the dataset\n",
    "    \n",
    "    :param select_size: the return size of dataset\n",
    "    :return: random subset of dataset\n",
    "    \"\"\"\n",
    "    sample_num=select_size\n",
    "    sample_list=[i for i in range(len(X_train))]\n",
    "    sample_list=random.sample(sample_list,sample_num)                               #randomly choose the index of the datas and store the chosen data in the new X,y trainset\n",
    "    X_train=X_train[sample_list]\n",
    "    y_train=y_train[sample_list]\n",
    "    # print(len(X_train))\n",
    "    # print(len(y_train))\n",
    "    return X_train,y_train\n",
    "# sample_dataset(X_train,y_train, select_size=3000)\n",
    "\n",
    "def knn_experiment(X_train, X_test, y_train, y_test,train_size) -> List[Tuple[float, float]]:\n",
    "    \"\"\"\n",
    "    Run mnist knn experiment of varying training size\n",
    "    \n",
    "    :param : X_train, X_test, y_train, y_test,train_size\n",
    "    :return: list of train and test accuracies of the modeles\n",
    "    \"\"\"\n",
    "    accuracy=[]\n",
    "    model=KNeighborsClassifier(n_neighbors=13)\n",
    "    for i in train_size:                                                      #find the accuracy for trainset and testset for different train set size\n",
    "        X_train1,y_train1=sample_dataset(X_train,y_train, select_size=i)\n",
    "        model.fit(X_train1,y_train1)\n",
    "        train_accuracy=accuracy_score(y_train1,model.predict(X_train1))\n",
    "        test_accuracy=accuracy_score(y_test,model.predict(X_test))\n",
    "        accuracy.append([train_accuracy,test_accuracy])\n",
    "    return accuracy\n",
    "    \n",
    "data=read_mnist_data(file_path='C:/Users/dell/Desktop/CS506hw2/mnist_data.npy')\n",
    "labels=read_mnist_data(file_path='C:/Users/dell/Desktop/CS506hw2/mnist_labels.npy')\n",
    "X_train, X_test, y_train, y_test= train_test_split(data,labels,test_size=0.2)\n",
    "\n",
    "train_size=[3000,6000,9000,12000,14400]\n",
    "accuracy=(knn_experiment(X_train, X_test, y_train, y_test,train_size))    \n",
    "# print(accuracy) \n",
    "# print(accuracy[1][0])\n",
    "\n",
    "def plot_accuracies_over_train_sizes(accuracies: List[Tuple[float, float]], train_sizes: List[float]):\n",
    "    \"\"\"\n",
    "    Plot the accuracies over training size\n",
    "    \n",
    "    :param accuracies: list of train and test accuracies of the model\n",
    "    :param train_sizes: the list of training sizes in the experiment\n",
    "    :return: plot the graph of relationship between train sizes and accuracy\n",
    "    \"\"\"\n",
    "    test_accuracies=[]\n",
    "    train_accuracies=[]\n",
    "    for i in range (len(accuracies)):                               #plot the graph with train and test accuracy and train size                                          \n",
    "        test_accuracies.append(accuracies[i][1])\n",
    "        train_accuracies.append(accuracies[i][0])\n",
    "    plt.title('accuracy overtrain sizes')\n",
    "    plt.plot(train_sizes, test_accuracies, label = 'Testing Accuracy')\n",
    "    plt.plot(train_sizes, train_accuracies, label = 'Training Accuracy')\n",
    "    plt.legend()\n",
    "    plt.xlabel('train sizes')\n",
    "    plt.ylabel('Accuracy')\n",
    "    plt.show()\n",
    "plot_accuracies_over_train_sizes(accuracies=accuracy,train_sizes=train_size)"
   ]
  },
  {
   "cell_type": "markdown",
   "id": "ddc36739",
   "metadata": {},
   "source": [
    "f) \\[2 pts.\\] Give a few bullet points explaining the pros and cons of these algorithms and when and why we use logistic regression over linear regression."
   ]
  },
  {
   "cell_type": "markdown",
   "id": "888b5158",
   "metadata": {},
   "source": [
    "KNN:  \n",
    "\n",
    "pros:simple and intuitive algorithm, no assumptions made  \n",
    "  \n",
    "cons:comparatively slow, need to choose an optimal number of neighbors\n",
    "\n",
    "linear regression:  \n",
    "\n",
    "pros:computational efficiency(computational speed is fast), interpretablility of the output  \n",
    "\n",
    "cons:over-simplisitic, linear assumption(assume the relationship is linear),affected by outliers\n",
    "\n",
    "logistic regression:  \n",
    "\n",
    "pros:easy to implement,interpret and efficient yo train, makes no assumptions about distributions of classes in feature sapce, less sensative to outliers \n",
    "\n",
    "cons:If the number of observations is lesser than the number of features, it may lead to overfitting  \n",
    "\n",
    "\n",
    "logic regression is used to handle classification and provide discreet output and less sensative to outliers than linear regression"
   ]
  },
  {
   "cell_type": "markdown",
   "id": "0df1a8a5",
   "metadata": {},
   "source": [
    "### PCA - Dimensionality Reduction\n",
    "\n",
    "The original dataset contains 28 ∗ 28 = 784 features. Therefore, we will try to reduce the dimension by using PCA.\n",
    "\n",
    "a) \\[1 pt.\\] Perform PCA decomposition, initially using all principal components. Before performing PCA you usually need to mean-center the data, [see here why](https://scikit-learn.org/stable/auto_examples/preprocessing/plot_scaling_importance.html), which means you have to calculate the mean of each variable (column) and subtract it from the respective column. However, many libraries perform this step implicitly, so consult the documentation of the library you are going to use (e.g. PCA of Sklearn)."
   ]
  },
  {
   "cell_type": "code",
   "execution_count": 125,
   "id": "f5ab67e8",
   "metadata": {},
   "outputs": [],
   "source": [
    "from sklearn.decomposition import PCA\n",
    "def pca_decomposition(dataset, num_components: [int]=None) -> np.array:\n",
    "    \"\"\"\n",
    "    Perform PCA decomposition over mnist dataset\n",
    "    \n",
    "    :param dataset: mnist dataset in numpy format\n",
    "    :param num_components: number of components to reduce to. If None, use all of components\n",
    "    :return: the decomposed version of the input dataset\n",
    "    \"\"\"\n",
    "    if(num_components!=None):\n",
    "        dataset=dataset[:,:num_components]                      #use PCA from sklearn which contains the step of centering the data\n",
    "    # print(np.shape(dataset))\n",
    "    # pca = PCA(n_components=2)\n",
    "    pca=PCA()\n",
    "    dataset=pca.fit_transform(dataset)\n",
    "    return dataset"
   ]
  },
  {
   "cell_type": "code",
   "execution_count": 126,
   "id": "7a5b4a08",
   "metadata": {},
   "outputs": [
    {
     "name": "stderr",
     "output_type": "stream",
     "text": [
      "C:\\Users\\dell\\AppData\\Local\\Programs\\Python\\Python39\\lib\\site-packages\\sklearn\\decomposition\\_pca.py:501: RuntimeWarning: invalid value encountered in true_divide\n",
      "  explained_variance_ratio_ = explained_variance_ / total_var\n"
     ]
    },
    {
     "data": {
      "text/plain": [
       "array([[0., 0., 0., 0.],\n",
       "       [0., 0., 0., 0.],\n",
       "       [0., 0., 0., 0.],\n",
       "       ...,\n",
       "       [0., 0., 0., 0.],\n",
       "       [0., 0., 0., 0.],\n",
       "       [0., 0., 0., 0.]])"
      ]
     },
     "execution_count": 126,
     "metadata": {},
     "output_type": "execute_result"
    }
   ],
   "source": [
    "pca_decomposition(data, num_components=4)"
   ]
  },
  {
   "cell_type": "markdown",
   "id": "d40b68d3",
   "metadata": {},
   "source": [
    "b) [2 pts.] Plot the CDF of the explained variance as a function of the number of principal components.\n"
   ]
  },
  {
   "cell_type": "code",
   "execution_count": 127,
   "id": "c57bfed4",
   "metadata": {},
   "outputs": [
    {
     "data": {
      "image/png": "[encoded data removed]",
      "text/plain": [
       "<Figure size 432x288 with 1 Axes>"
      ]
     },
     "metadata": {
      "needs_background": "light"
     },
     "output_type": "display_data"
    }
   ],
   "source": [
    "def plot_pca_cdf(dataset):\n",
    "    \"\"\"\n",
    "    Plot CDF of explained variance as a function of number of principal components\n",
    "    \n",
    "    :param: dataset\n",
    "    :return: the graph\n",
    "    \"\"\"\n",
    "    pca=PCA().fit(dataset)\n",
    "    plt.plot(np.cumsum(pca.explained_variance_ratio_))                      #plot the cumulate sum of the explained_variance_ratio_ function in sklearn\n",
    "    plt.xlabel('number of components')\n",
    "    plt.ylabel('cumulative explained variance')\n",
    "    plt.show()\n",
    "\n",
    "plot_pca_cdf(data)   "
   ]
  },
  {
   "cell_type": "markdown",
   "id": "8305ed32",
   "metadata": {},
   "source": [
    "c) [1 pt.] Choose a number of principal components to use by arguing why your choice is reasonable as a trade-off between the number of components used and classification performance. Afterwards, train a kNN classifier (choose a k that gave you the best results in Problem 2c.) and report train and test accuracy.\n"
   ]
  },
  {
   "cell_type": "code",
   "execution_count": 128,
   "id": "e7b07433",
   "metadata": {},
   "outputs": [],
   "source": [
    "from sklearn.neighbors import KNeighborsClassifier \n",
    "from sklearn.metrics import accuracy_score\n",
    "def knn_classify_mnist_with_pca(dataset, labels, k: int, num_components: int) -> Tuple[float, float]:\n",
    "    \"\"\"\n",
    "    Classify mnist dataset with K-nearest neighbor\n",
    "    \n",
    "    :param dataset,lables: mnist dataset from 2(a) stored as data and label\n",
    "    :param k: number of nearest neighbors\n",
    "    :param num_components: number of components to keep after PCA\n",
    "    :return: train and test accuracy of the model\n",
    "    \"\"\"\n",
    "    data=pca_decomposition(dataset,num_components=num_components)\n",
    "    # print(np.shape(data))\n",
    "    # print(np.shape(labels))\n",
    "    X_train, X_test, y_train, y_test= train_test_split(data,labels,test_size=0.2)                               #first decompose the data and then train model\n",
    "    model=KNeighborsClassifier(n_neighbors=k)\n",
    "    model.fit(X_train,y_train)\n",
    "    X_train_predict=model.predict(X_train)\n",
    "    X_test_predict=model.predict(X_test)\n",
    "    train_accuracy=accuracy_score(y_train,X_train_predict)                                                       #find the accuracy using accuracy_score in sklearn\n",
    "    test_accuracy=accuracy_score(y_test,X_test_predict)\n",
    "    return train_accuracy,test_accuracy\n",
    "    "
   ]
  },
  {
   "cell_type": "code",
   "execution_count": 129,
   "id": "d6a22f5e",
   "metadata": {},
   "outputs": [
    {
     "name": "stdout",
     "output_type": "stream",
     "text": [
      "(0.95375, 0.9419444444444445)\n",
      "(0.9015277777777778, 0.8891666666666667)\n"
     ]
    }
   ],
   "source": [
    "data=read_mnist_data(file_path='C:/Users/dell/Desktop/CS506hw2/mnist_data.npy')\n",
    "labels=read_mnist_data(file_path='C:/Users/dell/Desktop/CS506hw2/mnist_labels.npy')\n",
    "print(knn_classify_mnist_with_pca(data,labels,k=13,num_components=650))\n",
    "print(knn_classify_mnist_with_pca(data,labels,k=13,num_components=400))"
   ]
  },
  {
   "cell_type": "markdown",
   "id": "dd7687c7",
   "metadata": {},
   "source": [
    "d) [5 pts.] For this part we will perform the following experiment: First, randomly sample a part of your dataset (using a fixed k and all features), of size ranging from 3,000 to 21,000 (the whole dataset) in increments of 3,000. Fit a kNN classifier and plot the running time.\n",
    "Now, use a fixed k and all samples of your dataset, but fit a kNN classifier using a varying number of Principal Components, ranging from 50 to 750 in increments of 100. Plot the running time on the same plot as above.\n",
    "\n",
    "Describe the plot. What seems to affect -as a trend- the fitting time more? Number of samples used for trying, or the dimensions of the data?\n",
    "\n",
    "-Python’s time package may be useful for this problem.\n"
   ]
  },
  {
   "cell_type": "code",
   "execution_count": 130,
   "id": "f76ec967",
   "metadata": {},
   "outputs": [],
   "source": [
    "import time\n",
    "from sklearn.neighbors import KNeighborsClassifier \n",
    "from sklearn.metrics import accuracy_score\n",
    "def train_size_experiment(X_train, X_test, y_train, y_test, k: int,train_sizes: List[float]) :\n",
    "    \"\"\"\n",
    "    Experiment classifying mnist with different training size\n",
    "    \n",
    "    :param : X_train, X_test, y_train, y_test from 2(a) ,k=13 which is the best k value founded in 2(c), train_sizes which is a list of numbers of train size\n",
    "    :return: running time and accuracy (trainset accuracy and testset accuracy) for each train size\n",
    "    \"\"\"\n",
    "    model=KNeighborsClassifier(n_neighbors=k)\n",
    "    running_time=[]\n",
    "    accuracies=[]\n",
    "    for i in  train_size:                                             #use the time() function from time in sklearn to  calculate the running time of the function\n",
    "        start=time.time()                                              #use end time-start time to calculate running time \n",
    "        X_train1,y_train1=sample_dataset(X_train,y_train, select_size=i)\n",
    "        model.fit(X_train1,y_train1)\n",
    "        # X_train_predict=model.predict(X_train)\n",
    "        X_test_predict=model.predict(X_test)\n",
    "        end=time.time()\n",
    "        # train_accuracy=accuracy_score(y_train,X_train_predict)\n",
    "        test_accuracy=accuracy_score(y_test,X_test_predict)             #find the test accuracy for each train size\n",
    "        # end=time.time()\n",
    "        running_time.append(end-start)\n",
    "        # accuracies.append([train_accuracy,test_accuracy])\n",
    "        accuracies.append(test_accuracy)\n",
    "    return running_time,accuracies\n",
    "data=read_mnist_data(file_path='C:/Users/dell/Desktop/CS506hw2/mnist_data.npy')\n",
    "labels=read_mnist_data(file_path='C:/Users/dell/Desktop/CS506hw2/mnist_labels.npy')\n",
    "X_train, X_test, y_train, y_test= train_test_split(data,labels,test_size=0.2)\n",
    "\n",
    "train_size=[3000,6000,9000,12000,14400]\n",
    "running_time1,accuracy1=train_size_experiment(X_train, X_test, y_train, y_test, k=13,train_sizes=train_size) \n",
    "# print(running_time1,accuracy1)\n",
    "\n",
    "def num_component_experiment(data, k: int,num_components: List[int]) :\n",
    "    \"\"\"\n",
    "    Experiment classifying mnist with different number of top principal components\n",
    "    \n",
    "    :param : data which is from 2(a), k=13 which is the best k value founded in 2(c), num_components which is the list of numbers of components\n",
    "    :return: running time and accuracy (trainset accuracy and testset accuracy) for each train size\n",
    "    \"\"\"\n",
    "    model=KNeighborsClassifier(n_neighbors=k)\n",
    "    running_time=[]\n",
    "    accuracies=[] \n",
    "    for i in [50,150,250,350,450,550,650,750]:                                                                  \n",
    "        # start=time.time()\n",
    "        # print(i)\n",
    "        data1=pca_decomposition(data,num_components=i)                                                        #similar as above function of calculating running time\n",
    "        X_train, X_test, y_train, y_test= train_test_split(data1,labels,test_size=0.2)\n",
    "        # print(np.shape(X_train))\n",
    "        start=time.time()\n",
    "        model.fit(X_train,y_train)\n",
    "        # X_train_predict=model.predict(X_train)\n",
    "        X_test_predict=model.predict(X_test)\n",
    "        end=time.time()\n",
    "        # train_accuracy=accuracy_score(y_train,X_train_predict)\n",
    "        test_accuracy=accuracy_score(y_test,X_test_predict)\n",
    "        # end=time.time()\n",
    "        running_time.append(end-start)\n",
    "        # accuracies.append([train_accuracy,test_accuracy])\n",
    "        accuracies.append(test_accuracy)\n",
    "    return running_time,accuracies\n",
    "num_component=[50,150,250,350,450,550,650,750]\n",
    "running_time2,accuracy2=num_component_experiment(data, k=13,num_components=num_component) \n",
    "# print(running_time2,accuracy2)"
   ]
  },
  {
   "cell_type": "code",
   "execution_count": 131,
   "id": "4ffdaa32",
   "metadata": {},
   "outputs": [
    {
     "data": {
      "image/png": "[encoded data removed]",
      "text/plain": [
       "<Figure size 432x288 with 1 Axes>"
      ]
     },
     "metadata": {
      "needs_background": "light"
     },
     "output_type": "display_data"
    },
    {
     "data": {
      "image/png": "[encoded data removed]",
      "text/plain": [
       "<Figure size 432x288 with 1 Axes>"
      ]
     },
     "metadata": {
      "needs_background": "light"
     },
     "output_type": "display_data"
    }
   ],
   "source": [
    "plt.title('running time with different training size')\n",
    "plt.plot(train_size, running_time1)\n",
    "plt.xlabel('train size')\n",
    "plt.ylabel('running time')\n",
    "plt.show()\n",
    "\n",
    "plt.title('running time with different number of components')\n",
    "plt.plot(num_component, running_time2)\n",
    "plt.xlabel('num_component')\n",
    "plt.ylabel('running time')\n",
    "plt.show()\n",
    "\n",
    "#describe the graph:\n",
    "#size of training set influences the running time more.\n",
    "# The graph of runningtime with different training size , as training size increases, running time increases in a straight line up\n",
    "# The graph of runningtime with different component number , as component number increases, running time decreases and then increases and keep repeating"
   ]
  },
  {
   "cell_type": "markdown",
   "id": "6c815e2f",
   "metadata": {},
   "source": [
    "e) [3 pts.] Using your results from the previous question, produce the most accurate model you can on the condition that it is faster than 50% of the models you tested. List the values chosen for: k, number of samples, and number of principal components. How does this model compare to your most accurate model (the best model you created when time wasn’t a factor)?\n"
   ]
  },
  {
   "cell_type": "markdown",
   "id": "0ca8a4d6",
   "metadata": {},
   "source": [
    "k=13 as stated in 2a that when k=13 the accuracy of trainingset and testingset is both at a high rate\n",
    "\n",
    "number of samples=9000 which as shown in the graph of 2e that the accuracy of trainingset and testingset both first increased rapidly and then increased slowly as the number of samples increased and 9000 is the turning point for both accuracy. Also as shown above, when number of samples=9000, running time is only about 0.9 which is faster than 50% of the models\n",
    "   \n",
    "number of components=400, as tested in 3c, when number of components is 650, the accuracy is 0.95 which is really high. But as shown on the above graph, when number of components=650, running time is 1.35 which is slower than most models, so and we need to make it faster than 50% of the models, I made trade off between accuracy and running time, and choose the number of components=400, which still have a comparatively high accuracy but a much faster running time.\n",
    "\n",
    "  \n",
    "As obvious, this model's accuracy will be slightly smaller than the best model's accuracy. However, it's only slightly smaller and we same nearly half running time and which is a successful trade off between accuracy and running time."
   ]
  },
  {
   "cell_type": "markdown",
   "id": "21f4886d",
   "metadata": {},
   "source": [
    "f) [1 pt.] Bonus point: Plot the images of the 10 first Principal Components. That is, plot the image approximation using each principle component."
   ]
  },
  {
   "cell_type": "code",
   "execution_count": null,
   "id": "9cbe3924",
   "metadata": {},
   "outputs": [],
   "source": [
    "def plot_components(data,top_components: int):\n",
    "    \"\"\"\n",
    "    Plot top 10 principal components\n",
    "    \n",
    "    :param top_components: number of top components to plot\n",
    "    :return: \n",
    "    \"\"\"\n",
    "    pca=PCA(top_components)\n",
    "    pca.fit(data)\n",
    "    data=pca.transform(data)\n",
    "    data_inverted = pca.inverse_transform(data)\n",
    "    img_compressed = (np.dstack(data_inverted)).astype(np.uint8)\n",
    "    plt.imshow(img_compressed)\n",
    "plot_components(data,top_components=10)"
   ]
  },
  {
   "cell_type": "code",
   "execution_count": null,
   "id": "52243b57",
   "metadata": {},
   "outputs": [],
   "source": []
  },
  {
   "cell_type": "code",
   "execution_count": null,
   "id": "63a59fdb",
   "metadata": {},
   "outputs": [],
   "source": []
  },
  {
   "cell_type": "code",
   "execution_count": null,
   "id": "5463fe31",
   "metadata": {},
   "outputs": [],
   "source": []
  }
 ],
 "metadata": {
  "interpreter": {
   "hash": "e16b9bd33e7041c0842013505aab8d96e59e427e4e0c80436ba1b7c1f34f93b5"
  },
  "kernelspec": {
   "display_name": "Python 3.9.4 64-bit",
   "name": "python3"
  },
  "language_info": {
   "codemirror_mode": {
    "name": "ipython",
    "version": 3
   },
   "file_extension": ".py",
   "mimetype": "text/x-python",
   "name": "python",
   "nbconvert_exporter": "python",
   "pygments_lexer": "ipython3",
   "version": "3.9.4"
  }
 },
 "nbformat": 4,
 "nbformat_minor": 5
}
